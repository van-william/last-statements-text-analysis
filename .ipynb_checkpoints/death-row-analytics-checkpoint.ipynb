{
 "cells": [
  {
   "cell_type": "code",
   "execution_count": 50,
   "id": "035db00e-d833-4047-b62f-489113a3b8da",
   "metadata": {},
   "outputs": [],
   "source": [
    "import requests\n",
    "from bs4 import BeautifulSoup\n",
    "import pandas as pd\n",
    "import lxml\n",
    "import re\n",
    "from requests.packages.urllib3.exceptions import InsecureRequestWarning\n",
    "requests.packages.urllib3.disable_warnings(InsecureRequestWarning)"
   ]
  },
  {
   "cell_type": "code",
   "execution_count": 51,
   "id": "08754bee-f141-4191-a64b-666f77c84247",
   "metadata": {},
   "outputs": [],
   "source": [
    "import requests\n",
    "from bs4 import BeautifulSoup\n",
    "\n",
    "URL = \"https://www.tdcj.texas.gov/death_row/dr_executed_offenders.html\"\n",
    "page = requests.get(URL, verify = False)\n",
    "soup = BeautifulSoup(page.content, \"html.parser\")"
   ]
  },
  {
   "cell_type": "code",
   "execution_count": 70,
   "id": "b011370d-55e8-446a-8302-c87583febdc4",
   "metadata": {},
   "outputs": [],
   "source": [
    "table_names = soup.find(title=\"Table showing list of executed inmates\")\n",
    "df = pd.read_html(str(table_names))[0]"
   ]
  },
  {
   "cell_type": "code",
   "execution_count": 71,
   "id": "89acce63-fae1-48af-b89c-6c6c09ed569b",
   "metadata": {},
   "outputs": [
    {
     "data": {
      "text/plain": [
       "(574, 10)"
      ]
     },
     "execution_count": 71,
     "metadata": {},
     "output_type": "execute_result"
    }
   ],
   "source": [
    "df.shape"
   ]
  },
  {
   "cell_type": "code",
   "execution_count": null,
   "id": "933ae307-a50c-4323-a0f5-dd9bd2b1ccf8",
   "metadata": {},
   "outputs": [],
   "source": [
    "df['last_first'] = df['Last Name'].apply(lambda row : row.lower()) + df['First Name'].apply(lambda row: row.lower())\n",
    "df['statement'] = 0"
   ]
  },
  {
   "cell_type": "code",
   "execution_count": null,
   "id": "72aaa653-4321-49ab-8f0b-157a5df50d02",
   "metadata": {},
   "outputs": [],
   "source": [
    "name_list = df['last_first']"
   ]
  },
  {
   "cell_type": "markdown",
   "id": "91c4be1a-8e27-498e-b633-090fc6590961",
   "metadata": {},
   "source": [
    "Pull each final statement:"
   ]
  },
  {
   "cell_type": "code",
   "execution_count": null,
   "id": "b0c3e62a-64b4-4317-a81e-64204e9d89e6",
   "metadata": {},
   "outputs": [],
   "source": [
    "statement_list = []\n",
    "for name in name_list:\n",
    "    url_offender = f'https://www.tdcj.texas.gov/death_row/dr_info/{name}last.html'\n",
    "    page_offender = requests.get(url_offender, verify = False)\n",
    "    soup_offender = BeautifulSoup(page_offender.content, \"html.parser\")\n",
    "    try:\n",
    "        title = soup_offender.body.find(text=re.compile('Last Statement:'))\n",
    "        statement = title.find_next('p')\n",
    "        statement_list.append(statement.text)\n",
    "    except:\n",
    "        statement_list.append('ERROR')"
   ]
  },
  {
   "cell_type": "code",
   "execution_count": null,
   "id": "cf2c8241-fcd5-43b2-9400-fa248e3f513b",
   "metadata": {},
   "outputs": [],
   "source": [
    "statement_list"
   ]
  },
  {
   "cell_type": "code",
   "execution_count": null,
   "id": "532a62c6-82db-4924-9b4e-31e824d688ae",
   "metadata": {
    "tags": []
   },
   "outputs": [],
   "source": [
    "for index, row in df.iterrows():\n",
    "    name = row['last_first']\n",
    "    url_offender = f'https://www.tdcj.texas.gov/death_row/dr_info/{name}last.html'\n",
    "    page_offender = requests.get(url_offender, verify = False)\n",
    "    soup_offender = BeautifulSoup(page_offender.content, \"html.parser\")\n",
    "    try:\n",
    "        title = soup_offender.body.find(text=re.compile('Last Statement:'))\n",
    "        statement = title.find_next('p')\n",
    "        df.at[index, 'statement'] = statement.text\n",
    "    except:\n",
    "        df.at[index, 'statement'] = 'ERROR'"
   ]
  },
  {
   "cell_type": "code",
   "execution_count": null,
   "id": "ec0f0679-32ba-420b-a97f-0d0775ad4a63",
   "metadata": {},
   "outputs": [],
   "source": [
    "df.tail()"
   ]
  },
  {
   "cell_type": "markdown",
   "id": "8a09f3e6-6fed-4b12-a625-5c045e9955f6",
   "metadata": {},
   "source": [
    "## Clustering"
   ]
  },
  {
   "cell_type": "code",
   "execution_count": null,
   "id": "8e357cfb-a81a-45d5-b2dc-1317018c23d6",
   "metadata": {},
   "outputs": [],
   "source": [
    "def process_text(text, stem=True):\n",
    "    \"\"\" Tokenize text and stem words removing punctuation \"\"\"\n",
    "    text = text.translate(None, string.punctuation)\n",
    "    tokens = word_tokenize(text)\n",
    " \n",
    "    if stem:\n",
    "        stemmer = PorterStemmer()\n",
    "        tokens = [stemmer.stem(t) for t in tokens]\n",
    " \n",
    "    return tokens\n",
    " \n",
    "\n",
    "def cluster_texts(texts, clusters=3):\n",
    "    \"\"\" Transform texts to Tf-Idf coordinates and cluster texts using K-Means \"\"\"\n",
    "    vectorizer = TfidfVectorizer(tokenizer=process_text,\n",
    "                                 stop_words=stopwords.words('english'),\n",
    "                                 max_df=0.5,\n",
    "                                 min_df=0.1,\n",
    "                                 lowercase=True)\n",
    " \n",
    "    tfidf_model = vectorizer.fit_transform(texts)\n",
    "    km_model = KMeans(n_clusters=clusters)\n",
    "    km_model.fit(tfidf_model)\n",
    " \n",
    "    clustering = collections.defaultdict(list)\n",
    " \n",
    "    for idx, label in enumerate(km_model.labels_):\n",
    "        clustering[label].append(idx)\n",
    " \n",
    "    return clustering"
   ]
  },
  {
   "cell_type": "code",
   "execution_count": null,
   "id": "b7d1b3e3-5b17-4bc4-8c7b-ed5f35d79547",
   "metadata": {},
   "outputs": [],
   "source": [
    "clusters = cluster_texts(statement_list, 7)\n",
    "pprint(dict(clusters))"
   ]
  },
  {
   "cell_type": "code",
   "execution_count": null,
   "id": "784ed5ac-a509-4701-be36-c9389f133aeb",
   "metadata": {},
   "outputs": [],
   "source": []
  }
 ],
 "metadata": {
  "kernelspec": {
   "display_name": "Python 3 (ipykernel)",
   "language": "python",
   "name": "python3"
  },
  "language_info": {
   "codemirror_mode": {
    "name": "ipython",
    "version": 3
   },
   "file_extension": ".py",
   "mimetype": "text/x-python",
   "name": "python",
   "nbconvert_exporter": "python",
   "pygments_lexer": "ipython3",
   "version": "3.9.13"
  }
 },
 "nbformat": 4,
 "nbformat_minor": 5
}
