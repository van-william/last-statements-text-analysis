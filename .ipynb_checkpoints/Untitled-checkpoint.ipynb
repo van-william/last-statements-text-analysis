{
 "cells": [
  {
   "cell_type": "code",
   "execution_count": null,
   "id": "7a3f979b-d7c2-46b6-9985-4a4290c8e285",
   "metadata": {},
   "outputs": [],
   "source": []
  }
 ],
 "metadata": {
  "kernelspec": {
   "display_name": "Python 3 (ipykernel)",
   "language": "python",
   "name": "python3"
  },
  "language_info": {
   "name": ""
  }
 },
 "nbformat": 4,
 "nbformat_minor": 5
}
